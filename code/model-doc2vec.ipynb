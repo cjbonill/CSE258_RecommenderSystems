{
  "nbformat": 4,
  "nbformat_minor": 0,
  "metadata": {
    "colab": {
      "provenance": []
    },
    "kernelspec": {
      "name": "python3",
      "display_name": "Python 3"
    },
    "language_info": {
      "name": "python"
    }
  },
  "cells": [
    {
      "cell_type": "code",
      "execution_count": 1,
      "metadata": {
        "colab": {
          "base_uri": "https://localhost:8080/"
        },
        "id": "HePHDlYmHsnm",
        "outputId": "942999d9-6eda-4a4b-d918-cdbd6be16039"
      },
      "outputs": [
        {
          "output_type": "stream",
          "name": "stdout",
          "text": [
            "Requirement already satisfied: tqdm in /usr/local/lib/python3.10/dist-packages (4.66.1)\n"
          ]
        }
      ],
      "source": [
        "!if ! test -f beeradvocate.json.gz; then wget https://datarepo.eng.ucsd.edu/mcauley_group/data/beer/beeradvocate.json.gz; fi;\n",
        "# !gzip -d beeradvocate.json.gz\n",
        "\n",
        "!pip install tqdm"
      ]
    },
    {
      "cell_type": "code",
      "source": [
        "import gzip\n",
        "from tqdm import tqdm\n",
        "import numpy as np\n",
        "import string\n",
        "from collections import defaultdict\n",
        "from sklearn import linear_model\n",
        "import gensim\n",
        "from gensim.models import Doc2Vec"
      ],
      "metadata": {
        "id": "UZtWLlkqH4Zj"
      },
      "execution_count": 2,
      "outputs": []
    },
    {
      "cell_type": "code",
      "source": [
        "fpath = \"beeradvocate.json.gz\"\n",
        "\n",
        "def readGz(path):\n",
        "    for l in gzip.open(path, 'rt', encoding=\"utf-8\"):\n",
        "        yield eval(l)\n",
        "\n",
        "data = []\n",
        "for l in readGz(fpath):\n",
        "    data.append(l)\n",
        "    if len(data) >= 100000:\n",
        "        break"
      ],
      "metadata": {
        "id": "maBPEJTkH58j"
      },
      "execution_count": 3,
      "outputs": []
    },
    {
      "cell_type": "code",
      "source": [
        "n = len(data)\n",
        "\n",
        "dataTrain = data[:int(n*0.8)]\n",
        "dataVal = data[int(n*0.8):int(n*0.9)]\n",
        "dataTest = data[int(n*0.9):]"
      ],
      "metadata": {
        "id": "W3E3xMR77E_7"
      },
      "execution_count": 4,
      "outputs": []
    },
    {
      "cell_type": "code",
      "source": [
        "dataTrain[0]"
      ],
      "metadata": {
        "colab": {
          "base_uri": "https://localhost:8080/"
        },
        "id": "gYce5NiuIw_l",
        "outputId": "a6192051-c29e-4ab7-a2fd-7149768b7644"
      },
      "execution_count": 5,
      "outputs": [
        {
          "output_type": "execute_result",
          "data": {
            "text/plain": [
              "{'beer/name': 'Sausa Weizen',\n",
              " 'beer/beerId': '47986',\n",
              " 'beer/brewerId': '10325',\n",
              " 'beer/ABV': '5.00',\n",
              " 'beer/style': 'Hefeweizen',\n",
              " 'review/appearance': '2.5',\n",
              " 'review/aroma': '2',\n",
              " 'review/palate': '1.5',\n",
              " 'review/taste': '1.5',\n",
              " 'review/overall': '1.5',\n",
              " 'review/time': '1234817823',\n",
              " 'review/profileName': 'stcules',\n",
              " 'review/text': 'A lot of foam. But a lot.\\tIn the smell some banana, and then lactic and tart. Not a good start.\\tQuite dark orange in color, with a lively carbonation (now visible, under the foam).\\tAgain tending to lactic sourness.\\tSame for the taste. With some yeast and banana.'}"
            ]
          },
          "metadata": {},
          "execution_count": 5
        }
      ]
    },
    {
      "cell_type": "code",
      "source": [
        "def get_corpus(data):\n",
        "  for i, d in enumerate(data):\n",
        "    tokens = gensim.utils.simple_preprocess(d['review/text'])\n",
        "    yield gensim.models.doc2vec.TaggedDocument(tokens, [i])"
      ],
      "metadata": {
        "id": "kt4wjL4t8ICE"
      },
      "execution_count": 6,
      "outputs": []
    },
    {
      "cell_type": "code",
      "source": [
        "train_corpus = list(get_corpus(dataTrain))\n",
        "val_corpus = list(get_corpus(dataVal))"
      ],
      "metadata": {
        "id": "2gkZ_9T9_fiU"
      },
      "execution_count": 7,
      "outputs": []
    },
    {
      "cell_type": "code",
      "source": [
        "print(train_corpus[0])"
      ],
      "metadata": {
        "colab": {
          "base_uri": "https://localhost:8080/"
        },
        "id": "eMyLXutU_s_d",
        "outputId": "26bb4d20-c6fc-4014-c3e3-1881b807b7be"
      },
      "execution_count": 8,
      "outputs": [
        {
          "output_type": "stream",
          "name": "stdout",
          "text": [
            "TaggedDocument<['lot', 'of', 'foam', 'but', 'lot', 'in', 'the', 'smell', 'some', 'banana', 'and', 'then', 'lactic', 'and', 'tart', 'not', 'good', 'start', 'quite', 'dark', 'orange', 'in', 'color', 'with', 'lively', 'carbonation', 'now', 'visible', 'under', 'the', 'foam', 'again', 'tending', 'to', 'lactic', 'sourness', 'same', 'for', 'the', 'taste', 'with', 'some', 'yeast', 'and', 'banana'], [0]>\n"
          ]
        }
      ]
    },
    {
      "cell_type": "code",
      "source": [
        "model = Doc2Vec(vector_size=100, min_count=2, epochs=50)\n",
        "model.build_vocab(train_corpus)\n",
        "model.train(train_corpus, total_examples=model.corpus_count, epochs=model.epochs)"
      ],
      "metadata": {
        "id": "VqdJCXmkAHOV"
      },
      "execution_count": 9,
      "outputs": []
    },
    {
      "cell_type": "code",
      "source": [
        "Xtrain = [model.infer_vector(gensim.utils.simple_preprocess(d['review/text'])) for d in dataTrain]\n",
        "Xval = [model.infer_vector(gensim.utils.simple_preprocess(d['review/text'])) for d in dataVal]"
      ],
      "metadata": {
        "id": "UZ62Oja7BWNM"
      },
      "execution_count": 10,
      "outputs": []
    },
    {
      "cell_type": "code",
      "source": [
        "ytrain = [d['review/overall'] for d in dataTrain]\n",
        "yval   = [d['review/overall'] for d in dataVal]"
      ],
      "metadata": {
        "id": "EyaqpVGzB7Jw"
      },
      "execution_count": 11,
      "outputs": []
    },
    {
      "cell_type": "code",
      "source": [
        "mod = linear_model.LogisticRegression(C=1)\n",
        "mod.fit(Xtrain, ytrain)\n",
        "ypreds = mod.predict(Xval)\n",
        "correct = [int(yp == y) for yp, y in zip(ypreds, yval)]\n",
        "acc = sum(correct) / len(correct)"
      ],
      "metadata": {
        "id": "cNWU_iWlBp0u",
        "colab": {
          "base_uri": "https://localhost:8080/"
        },
        "outputId": "09c2c8a0-69ef-46a4-ef2d-cd1eb5b2c591"
      },
      "execution_count": 12,
      "outputs": [
        {
          "output_type": "stream",
          "name": "stderr",
          "text": [
            "/usr/local/lib/python3.10/dist-packages/sklearn/linear_model/_logistic.py:458: ConvergenceWarning: lbfgs failed to converge (status=1):\n",
            "STOP: TOTAL NO. of ITERATIONS REACHED LIMIT.\n",
            "\n",
            "Increase the number of iterations (max_iter) or scale the data as shown in:\n",
            "    https://scikit-learn.org/stable/modules/preprocessing.html\n",
            "Please also refer to the documentation for alternative solver options:\n",
            "    https://scikit-learn.org/stable/modules/linear_model.html#logistic-regression\n",
            "  n_iter_i = _check_optimize_result(\n"
          ]
        }
      ]
    },
    {
      "cell_type": "code",
      "source": [
        "mod.score(Xval, yval)"
      ],
      "metadata": {
        "colab": {
          "base_uri": "https://localhost:8080/"
        },
        "id": "EmZQtEm9HTon",
        "outputId": "1b51ebf3-68a8-42f2-ac74-83e110ca60f7"
      },
      "execution_count": 13,
      "outputs": [
        {
          "output_type": "execute_result",
          "data": {
            "text/plain": [
              "0.443"
            ]
          },
          "metadata": {},
          "execution_count": 13
        }
      ]
    },
    {
      "cell_type": "code",
      "source": [
        "ypreds[:10]"
      ],
      "metadata": {
        "colab": {
          "base_uri": "https://localhost:8080/"
        },
        "id": "GR4ITQFlHg6A",
        "outputId": "fc97beb2-44f6-4665-dc77-abb18084b979"
      },
      "execution_count": 14,
      "outputs": [
        {
          "output_type": "execute_result",
          "data": {
            "text/plain": [
              "array(['4', '3.5', '4', '4', '4', '3', '4', '4', '4', '4'], dtype='<U3')"
            ]
          },
          "metadata": {},
          "execution_count": 14
        }
      ]
    },
    {
      "cell_type": "code",
      "source": [
        "Xtrain[0]"
      ],
      "metadata": {
        "colab": {
          "base_uri": "https://localhost:8080/"
        },
        "id": "VLWyzX05JO76",
        "outputId": "a2ee5a52-83eb-461b-9f58-0cbacb6b4727"
      },
      "execution_count": 15,
      "outputs": [
        {
          "output_type": "execute_result",
          "data": {
            "text/plain": [
              "array([-0.41563013,  0.07462738, -0.98048615, -1.0502536 ,  0.99023014,\n",
              "       -0.83772045, -0.3496178 , -1.4450861 ,  0.09863725, -0.09043857,\n",
              "       -0.8168729 , -0.43389428,  0.43815145, -0.32483727,  0.38028795,\n",
              "       -1.235194  ,  0.32259545,  0.78997403,  0.6593457 , -0.68907124,\n",
              "        1.6355003 , -0.19593638,  0.1505881 , -0.42939603, -1.0580109 ,\n",
              "       -1.5753169 , -1.450085  , -0.8762979 , -0.5797334 ,  0.96016276,\n",
              "        0.71337205, -0.49275005,  1.3983572 ,  0.51323986, -0.6479618 ,\n",
              "       -0.23662163,  0.06465844,  0.8781828 , -1.146156  , -0.7381294 ,\n",
              "        0.06444164,  1.1686393 , -1.0454475 , -0.26545933, -1.2740368 ,\n",
              "       -0.30584645,  1.1562766 ,  0.1302998 ,  0.809188  ,  0.36150536,\n",
              "       -0.6671667 , -1.6230819 ,  0.34073788, -0.2661244 ,  0.87624466,\n",
              "        0.73004043,  1.5364116 ,  0.3695793 , -1.0929552 , -0.16224444,\n",
              "        0.627256  , -1.3580552 , -0.9250101 , -0.9219991 ,  1.8120254 ,\n",
              "        1.295882  ,  1.1991459 , -1.1202805 ,  1.3451046 , -0.2662541 ,\n",
              "        0.5914619 , -0.11485156,  0.23002487,  0.5545516 , -0.20303358,\n",
              "        0.8397962 , -0.6545287 ,  0.34165463, -1.0711765 ,  0.34142402,\n",
              "       -1.2208883 ,  0.5933472 ,  0.04043593, -0.37790474,  0.95183325,\n",
              "       -0.95665675,  0.29152703, -0.20789494, -0.38020483, -1.9186505 ,\n",
              "       -0.46117336, -0.64801717, -0.85022175,  1.1806195 ,  0.77604914,\n",
              "       -0.09857101, -0.08995807, -1.2777596 , -0.04347551, -1.4550203 ],\n",
              "      dtype=float32)"
            ]
          },
          "metadata": {},
          "execution_count": 15
        }
      ]
    }
  ]
}