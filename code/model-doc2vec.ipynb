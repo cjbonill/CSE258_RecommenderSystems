{
  "cells": [
    {
      "cell_type": "code",
      "execution_count": null,
      "metadata": {
        "colab": {
          "base_uri": "https://localhost:8080/"
        },
        "id": "HePHDlYmHsnm",
        "outputId": "942999d9-6eda-4a4b-d918-cdbd6be16039"
      },
      "outputs": [],
      "source": [
        "!if ! test -f beeradvocate.json.gz; then wget https://datarepo.eng.ucsd.edu/mcauley_group/data/beer/beeradvocate.json.gz; fi;\n",
        "# !gzip -d beeradvocate.json.gz\n",
        "\n",
        "!pip install tqdm"
      ]
    },
    {
      "cell_type": "code",
      "execution_count": null,
      "metadata": {
        "id": "UZtWLlkqH4Zj"
      },
      "outputs": [],
      "source": [
        "import gzip\n",
        "from tqdm import tqdm\n",
        "import numpy as np\n",
        "import string\n",
        "from collections import defaultdict\n",
        "from sklearn import linear_model\n",
        "import gensim\n",
        "from gensim.models import Doc2Vec"
      ]
    },
    {
      "cell_type": "code",
      "execution_count": null,
      "metadata": {
        "id": "maBPEJTkH58j"
      },
      "outputs": [],
      "source": [
        "fpath = \"beeradvocate.json.gz\"\n",
        "\n",
        "def readGz(path):\n",
        "    for l in gzip.open(path, 'rt', encoding=\"utf-8\"):\n",
        "        yield eval(l)\n",
        "\n",
        "data = []\n",
        "for l in readGz(fpath):\n",
        "    data.append(l)\n",
        "    if len(data) >= 100000:\n",
        "        break"
      ]
    },
    {
      "cell_type": "code",
      "execution_count": null,
      "metadata": {
        "id": "W3E3xMR77E_7"
      },
      "outputs": [],
      "source": [
        "n = len(data)\n",
        "\n",
        "dataTrain = data[:int(n*0.8)]\n",
        "dataVal = data[int(n*0.8):int(n*0.9)]\n",
        "dataTest = data[int(n*0.9):]"
      ]
    },
    {
      "cell_type": "code",
      "execution_count": null,
      "metadata": {
        "colab": {
          "base_uri": "https://localhost:8080/"
        },
        "id": "gYce5NiuIw_l",
        "outputId": "a6192051-c29e-4ab7-a2fd-7149768b7644"
      },
      "outputs": [],
      "source": [
        "dataTrain[0]"
      ]
    },
    {
      "cell_type": "code",
      "execution_count": null,
      "metadata": {
        "id": "kt4wjL4t8ICE"
      },
      "outputs": [],
      "source": [
        "def get_corpus(data):\n",
        "  for i, d in enumerate(data):\n",
        "    tokens = gensim.utils.simple_preprocess(d['review/text'])\n",
        "    yield gensim.models.doc2vec.TaggedDocument(tokens, [i])"
      ]
    },
    {
      "cell_type": "code",
      "execution_count": null,
      "metadata": {
        "id": "2gkZ_9T9_fiU"
      },
      "outputs": [],
      "source": [
        "train_corpus = list(get_corpus(dataTrain))\n",
        "val_corpus = list(get_corpus(dataVal))"
      ]
    },
    {
      "cell_type": "code",
      "execution_count": null,
      "metadata": {
        "colab": {
          "base_uri": "https://localhost:8080/"
        },
        "id": "eMyLXutU_s_d",
        "outputId": "26bb4d20-c6fc-4014-c3e3-1881b807b7be"
      },
      "outputs": [],
      "source": [
        "print(train_corpus[0])"
      ]
    },
    {
      "cell_type": "code",
      "execution_count": null,
      "metadata": {
        "id": "VqdJCXmkAHOV"
      },
      "outputs": [],
      "source": [
        "model = Doc2Vec(vector_size=100, min_count=2, epochs=50)\n",
        "model.build_vocab(train_corpus)\n",
        "model.train(train_corpus, total_examples=model.corpus_count, epochs=model.epochs)"
      ]
    },
    {
      "cell_type": "code",
      "execution_count": null,
      "metadata": {
        "id": "UZ62Oja7BWNM"
      },
      "outputs": [],
      "source": [
        "Xtrain = [model.infer_vector(gensim.utils.simple_preprocess(d['review/text'])) for d in dataTrain]\n",
        "Xval = [model.infer_vector(gensim.utils.simple_preprocess(d['review/text'])) for d in dataVal]"
      ]
    },
    {
      "cell_type": "code",
      "execution_count": null,
      "metadata": {
        "id": "EyaqpVGzB7Jw"
      },
      "outputs": [],
      "source": [
        "ytrain = [d['review/overall'] for d in dataTrain]\n",
        "yval   = [d['review/overall'] for d in dataVal]"
      ]
    },
    {
      "cell_type": "code",
      "execution_count": null,
      "metadata": {
        "colab": {
          "base_uri": "https://localhost:8080/"
        },
        "id": "cNWU_iWlBp0u",
        "outputId": "09c2c8a0-69ef-46a4-ef2d-cd1eb5b2c591"
      },
      "outputs": [],
      "source": [
        "mod = linear_model.LogisticRegression(C=1)\n",
        "mod.fit(Xtrain, ytrain)\n",
        "ypreds = mod.predict(Xval)\n",
        "correct = [int(yp == y) for yp, y in zip(ypreds, yval)]\n",
        "acc = sum(correct) / len(correct)"
      ]
    },
    {
      "cell_type": "code",
      "execution_count": null,
      "metadata": {
        "colab": {
          "base_uri": "https://localhost:8080/"
        },
        "id": "EmZQtEm9HTon",
        "outputId": "1b51ebf3-68a8-42f2-ac74-83e110ca60f7"
      },
      "outputs": [],
      "source": [
        "mod.score(Xval, yval)"
      ]
    },
    {
      "cell_type": "code",
      "execution_count": null,
      "metadata": {
        "colab": {
          "base_uri": "https://localhost:8080/"
        },
        "id": "GR4ITQFlHg6A",
        "outputId": "fc97beb2-44f6-4665-dc77-abb18084b979"
      },
      "outputs": [],
      "source": [
        "ypreds[:10]"
      ]
    },
    {
      "cell_type": "code",
      "execution_count": null,
      "metadata": {
        "colab": {
          "base_uri": "https://localhost:8080/"
        },
        "id": "VLWyzX05JO76",
        "outputId": "a2ee5a52-83eb-461b-9f58-0cbacb6b4727"
      },
      "outputs": [],
      "source": [
        "Xtrain[0]"
      ]
    }
  ],
  "metadata": {
    "colab": {
      "provenance": []
    },
    "kernelspec": {
      "display_name": "Python 3",
      "name": "python3"
    },
    "language_info": {
      "name": "python"
    }
  },
  "nbformat": 4,
  "nbformat_minor": 0
}
