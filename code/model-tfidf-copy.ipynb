{
 "cells": [
  {
   "cell_type": "code",
   "execution_count": 1,
   "metadata": {},
   "outputs": [
    {
     "name": "stderr",
     "output_type": "stream",
     "text": [
      "[nltk_data] Downloading package stopwords to\n",
      "[nltk_data]     C:\\Users\\kyeling\\AppData\\Roaming\\nltk_data...\n",
      "[nltk_data]   Package stopwords is already up-to-date!\n"
     ]
    },
    {
     "data": {
      "text/plain": [
       "True"
      ]
     },
     "execution_count": 1,
     "metadata": {},
     "output_type": "execute_result"
    }
   ],
   "source": [
    "import gzip\n",
    "from tqdm import tqdm\n",
    "import numpy as np\n",
    "import string\n",
    "from collections import defaultdict\n",
    "from sklearn import linear_model\n",
    "import nltk\n",
    "from nltk.corpus import stopwords\n",
    "\n",
    "nltk.download('stopwords')"
   ]
  },
  {
   "cell_type": "code",
   "execution_count": 2,
   "metadata": {},
   "outputs": [
    {
     "name": "stderr",
     "output_type": "stream",
     "text": [
      "99999it [00:08, 12115.57it/s]\n"
     ]
    }
   ],
   "source": [
    "fpath = \"../data/beeradvocate.json.gz\"\n",
    "\n",
    "def readGz(path):\n",
    "    for l in gzip.open(path, 'rt', encoding=\"utf-8\"):\n",
    "        yield eval(l)\n",
    "\n",
    "data = []\n",
    "for l in tqdm(readGz(fpath)):\n",
    "    data.append(l)\n",
    "    if len(data) >= 100000:\n",
    "        break"
   ]
  },
  {
   "cell_type": "code",
   "execution_count": 3,
   "metadata": {},
   "outputs": [],
   "source": [
    "n = len(data)\n",
    "\n",
    "dataTrain = data[:int(n*0.8)]\n",
    "dataVal = data[int(n*0.8):int(n*0.9)] \n",
    "dataTest = data[int(n*0.9):] "
   ]
  },
  {
   "cell_type": "code",
   "execution_count": 4,
   "metadata": {},
   "outputs": [],
   "source": [
    "ytrain = [d['beer/style'] for d in dataTrain]\n",
    "yval   = [d['beer/style'] for d in dataVal]\n",
    "# ytest  = [d['beer/style'] for d in dataTest]"
   ]
  },
  {
   "cell_type": "code",
   "execution_count": 5,
   "metadata": {},
   "outputs": [
    {
     "ename": "TypeError",
     "evalue": "can only concatenate str (not \"list\") to str",
     "output_type": "error",
     "traceback": [
      "\u001b[1;31m---------------------------------------------------------------------------\u001b[0m",
      "\u001b[1;31mTypeError\u001b[0m                                 Traceback (most recent call last)",
      "\u001b[1;32mc:\\Users\\kyeling\\Desktop\\CSE258_RecommenderSystems\\code\\model-tfidf.ipynb Cell 5\u001b[0m line \u001b[0;36m1\n\u001b[1;32m----> <a href='vscode-notebook-cell:/c%3A/Users/kyeling/Desktop/CSE258_RecommenderSystems/code/model-tfidf.ipynb#W4sZmlsZQ%3D%3D?line=0'>1</a>\u001b[0m sp \u001b[39m=\u001b[39m \u001b[39mset\u001b[39m(string\u001b[39m.\u001b[39;49mpunctuation \u001b[39m+\u001b[39;49m stopwords\u001b[39m.\u001b[39;49mwords(\u001b[39m'\u001b[39;49m\u001b[39menglish\u001b[39;49m\u001b[39m'\u001b[39;49m))\n",
      "\u001b[1;31mTypeError\u001b[0m: can only concatenate str (not \"list\") to str"
     ]
    }
   ],
   "source": [
    "sp = set(list(zip(*string.punctuation)) + stopwords.words('english'))"
   ]
  },
  {
   "cell_type": "code",
   "execution_count": null,
   "metadata": {},
   "outputs": [],
   "source": [
    "# create dictionary of size V unigrams\n",
    "# word counts should be based on training data\n",
    "def create_dict(V):    \n",
    "    wordCount = defaultdict(int)\n",
    "    for d in tqdm(dataTrain):\n",
    "        r = ''.join([c for c in d['review/text'].lower() if not c in sp])\n",
    "        for w in r.split():\n",
    "            wordCount[w] += 1\n",
    "\n",
    "    counts = [(wordCount[w], w) for w in wordCount]\n",
    "    counts.sort(reverse=True)\n",
    "\n",
    "    words = [x[1] for x in counts[:V]]\n",
    "    return words"
   ]
  },
  {
   "cell_type": "code",
   "execution_count": null,
   "metadata": {},
   "outputs": [],
   "source": [
    "def get_bow_vecs(data, words):\n",
    "  X = []\n",
    "  for d in tqdm(data):\n",
    "    wordCount = defaultdict(int)\n",
    "    r = ''.join([c for c in d['review/text'].lower() if not c in sp])\n",
    "    for w in r.split():\n",
    "        wordCount[w] += 1\n",
    "    X.append([wordCount[w] for w in words])\n",
    "  return X\n",
    "\n"
   ]
  },
  {
   "cell_type": "code",
   "execution_count": null,
   "metadata": {},
   "outputs": [],
   "source": [
    "def run_model(X_train, y_train, X_val, y_val, C=1):\n",
    "    mod = linear_model.LogisticRegression(C=C)\n",
    "    mod.fit(X_train, y_train)\n",
    "    \n",
    "    y_preds = mod.predict(X_val)\n",
    "    correct = [int(yp == y) for yp, y in zip(y_preds, y_val)]\n",
    "    acc = sum(correct) / len(correct)\n",
    "\n",
    "    print(f\"accuracy: {acc}\")\n",
    "    return acc"
   ]
  },
  {
   "cell_type": "code",
   "execution_count": null,
   "metadata": {},
   "outputs": [
    {
     "name": "stderr",
     "output_type": "stream",
     "text": [
      "  2%|▏         | 1843/80000 [00:01<00:47, 1662.09it/s]"
     ]
    },
    {
     "name": "stderr",
     "output_type": "stream",
     "text": [
      "100%|██████████| 80000/80000 [00:28<00:00, 2847.64it/s]\n",
      "100%|██████████| 80000/80000 [00:34<00:00, 2325.12it/s]\n",
      "100%|██████████| 10000/10000 [00:04<00:00, 2228.43it/s]\n",
      "c:\\Users\\kyeling\\Desktop\\CSE258_RecommenderSystems\\.venv\\lib\\site-packages\\sklearn\\linear_model\\_logistic.py:460: ConvergenceWarning: lbfgs failed to converge (status=1):\n",
      "STOP: TOTAL NO. of ITERATIONS REACHED LIMIT.\n",
      "\n",
      "Increase the number of iterations (max_iter) or scale the data as shown in:\n",
      "    https://scikit-learn.org/stable/modules/preprocessing.html\n",
      "Please also refer to the documentation for alternative solver options:\n",
      "    https://scikit-learn.org/stable/modules/linear_model.html#logistic-regression\n",
      "  n_iter_i = _check_optimize_result(\n"
     ]
    },
    {
     "name": "stdout",
     "output_type": "stream",
     "text": [
      "accuracy: 0.4086\n"
     ]
    }
   ],
   "source": [
    "words = create_dict(V=1000)\n",
    "Xtrain = get_bow_vecs(dataTrain, words)\n",
    "Xval = get_bow_vecs(dataVal, words)\n",
    "acc = run_model(Xtrain, ytrain, Xval, yval)"
   ]
  },
  {
   "cell_type": "code",
   "execution_count": null,
   "metadata": {},
   "outputs": [],
   "source": [
    "### TF-IDF ###"
   ]
  },
  {
   "cell_type": "code",
   "execution_count": null,
   "metadata": {},
   "outputs": [],
   "source": [
    "# tf is based on respective data (train, val, or test)\n",
    "def get_tf(d):\n",
    "  tf = defaultdict(int)\n",
    "  r = ''.join([c for c in d['review/text'].lower() if not c in sp])\n",
    "  for w in r.split():\n",
    "    tf[w] += 1\n",
    "  return tf\n",
    "\n",
    "# idf should be based on train data\n",
    "def get_df():\n",
    "    df = defaultdict(int)\n",
    "    for d in tqdm(dataTrain):\n",
    "        r = ''.join([c for c in d['review/text'].lower() if not c in sp])\n",
    "        for w in set(r.split()):\n",
    "            df[w] += 1\n",
    "\n",
    "def get_tfidf_vecs(data, words, df):\n",
    "  X = []\n",
    "  for d in data:\n",
    "    tf = get_tf(d)\n",
    "    X.append([tf[w] * np.log10(len(data) / df[w]) for w in words])\n",
    "  return X"
   ]
  },
  {
   "cell_type": "code",
   "execution_count": null,
   "metadata": {},
   "outputs": [
    {
     "name": "stderr",
     "output_type": "stream",
     "text": [
      "  1%|          | 428/80000 [00:00<00:18, 4254.29it/s]"
     ]
    },
    {
     "name": "stderr",
     "output_type": "stream",
     "text": [
      "100%|██████████| 80000/80000 [00:08<00:00, 9266.67it/s] \n"
     ]
    },
    {
     "ename": "TypeError",
     "evalue": "'NoneType' object is not subscriptable",
     "output_type": "error",
     "traceback": [
      "\u001b[1;31m---------------------------------------------------------------------------\u001b[0m",
      "\u001b[1;31mTypeError\u001b[0m                                 Traceback (most recent call last)",
      "\u001b[1;32mc:\\Users\\kyeling\\Desktop\\CSE258_RecommenderSystems\\code\\model-tfidf.ipynb Cell 12\u001b[0m line \u001b[0;36m3\n\u001b[0;32m      <a href='vscode-notebook-cell:/c%3A/Users/kyeling/Desktop/CSE258_RecommenderSystems/code/model-tfidf.ipynb#X14sZmlsZQ%3D%3D?line=0'>1</a>\u001b[0m \u001b[39m# words = create_dict(V=1000)\u001b[39;00m\n\u001b[0;32m      <a href='vscode-notebook-cell:/c%3A/Users/kyeling/Desktop/CSE258_RecommenderSystems/code/model-tfidf.ipynb#X14sZmlsZQ%3D%3D?line=1'>2</a>\u001b[0m df \u001b[39m=\u001b[39m get_df()\n\u001b[1;32m----> <a href='vscode-notebook-cell:/c%3A/Users/kyeling/Desktop/CSE258_RecommenderSystems/code/model-tfidf.ipynb#X14sZmlsZQ%3D%3D?line=2'>3</a>\u001b[0m Xtrain \u001b[39m=\u001b[39m get_tfidf_vecs(dataTrain, words, df)\n\u001b[0;32m      <a href='vscode-notebook-cell:/c%3A/Users/kyeling/Desktop/CSE258_RecommenderSystems/code/model-tfidf.ipynb#X14sZmlsZQ%3D%3D?line=3'>4</a>\u001b[0m Xval \u001b[39m=\u001b[39m get_tfidf_vecs(dataVal, words, df)\n\u001b[0;32m      <a href='vscode-notebook-cell:/c%3A/Users/kyeling/Desktop/CSE258_RecommenderSystems/code/model-tfidf.ipynb#X14sZmlsZQ%3D%3D?line=4'>5</a>\u001b[0m acc \u001b[39m=\u001b[39m run_model(Xtrain, ytrain, Xval, yval)\n",
      "\u001b[1;32mc:\\Users\\kyeling\\Desktop\\CSE258_RecommenderSystems\\code\\model-tfidf.ipynb Cell 12\u001b[0m line \u001b[0;36m2\n\u001b[0;32m     <a href='vscode-notebook-cell:/c%3A/Users/kyeling/Desktop/CSE258_RecommenderSystems/code/model-tfidf.ipynb#X14sZmlsZQ%3D%3D?line=18'>19</a>\u001b[0m \u001b[39mfor\u001b[39;00m d \u001b[39min\u001b[39;00m data:\n\u001b[0;32m     <a href='vscode-notebook-cell:/c%3A/Users/kyeling/Desktop/CSE258_RecommenderSystems/code/model-tfidf.ipynb#X14sZmlsZQ%3D%3D?line=19'>20</a>\u001b[0m   tf \u001b[39m=\u001b[39m get_tf(d)\n\u001b[1;32m---> <a href='vscode-notebook-cell:/c%3A/Users/kyeling/Desktop/CSE258_RecommenderSystems/code/model-tfidf.ipynb#X14sZmlsZQ%3D%3D?line=20'>21</a>\u001b[0m   X\u001b[39m.\u001b[39mappend([tf[w] \u001b[39m*\u001b[39m np\u001b[39m.\u001b[39mlog10(\u001b[39mlen\u001b[39m(data) \u001b[39m/\u001b[39m df[w]) \u001b[39mfor\u001b[39;00m w \u001b[39min\u001b[39;00m words])\n\u001b[0;32m     <a href='vscode-notebook-cell:/c%3A/Users/kyeling/Desktop/CSE258_RecommenderSystems/code/model-tfidf.ipynb#X14sZmlsZQ%3D%3D?line=21'>22</a>\u001b[0m \u001b[39mreturn\u001b[39;00m X\n",
      "\u001b[1;32mc:\\Users\\kyeling\\Desktop\\CSE258_RecommenderSystems\\code\\model-tfidf.ipynb Cell 12\u001b[0m line \u001b[0;36m2\n\u001b[0;32m     <a href='vscode-notebook-cell:/c%3A/Users/kyeling/Desktop/CSE258_RecommenderSystems/code/model-tfidf.ipynb#X14sZmlsZQ%3D%3D?line=18'>19</a>\u001b[0m \u001b[39mfor\u001b[39;00m d \u001b[39min\u001b[39;00m data:\n\u001b[0;32m     <a href='vscode-notebook-cell:/c%3A/Users/kyeling/Desktop/CSE258_RecommenderSystems/code/model-tfidf.ipynb#X14sZmlsZQ%3D%3D?line=19'>20</a>\u001b[0m   tf \u001b[39m=\u001b[39m get_tf(d)\n\u001b[1;32m---> <a href='vscode-notebook-cell:/c%3A/Users/kyeling/Desktop/CSE258_RecommenderSystems/code/model-tfidf.ipynb#X14sZmlsZQ%3D%3D?line=20'>21</a>\u001b[0m   X\u001b[39m.\u001b[39mappend([tf[w] \u001b[39m*\u001b[39m np\u001b[39m.\u001b[39mlog10(\u001b[39mlen\u001b[39m(data) \u001b[39m/\u001b[39m df[w]) \u001b[39mfor\u001b[39;00m w \u001b[39min\u001b[39;00m words])\n\u001b[0;32m     <a href='vscode-notebook-cell:/c%3A/Users/kyeling/Desktop/CSE258_RecommenderSystems/code/model-tfidf.ipynb#X14sZmlsZQ%3D%3D?line=21'>22</a>\u001b[0m \u001b[39mreturn\u001b[39;00m X\n",
      "\u001b[1;31mTypeError\u001b[0m: 'NoneType' object is not subscriptable"
     ]
    }
   ],
   "source": [
    "# words = create_dict(V=1000)\n",
    "df = get_df()\n",
    "Xtrain = get_tfidf_vecs(dataTrain, words, df)\n",
    "Xval = get_tfidf_vecs(dataVal, words, df)\n",
    "acc = run_model(Xtrain, ytrain, Xval, yval)"
   ]
  }
 ],
 "metadata": {
  "kernelspec": {
   "display_name": ".venv",
   "language": "python",
   "name": "python3"
  },
  "language_info": {
   "codemirror_mode": {
    "name": "ipython",
    "version": 3
   },
   "file_extension": ".py",
   "mimetype": "text/x-python",
   "name": "python",
   "nbconvert_exporter": "python",
   "pygments_lexer": "ipython3",
   "version": "3.10.10"
  }
 },
 "nbformat": 4,
 "nbformat_minor": 2
}
