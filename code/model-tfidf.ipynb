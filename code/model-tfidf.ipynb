{
 "cells": [
  {
   "cell_type": "code",
   "execution_count": 2,
   "metadata": {},
   "outputs": [],
   "source": [
    "import gzip\n",
    "from tqdm import tqdm\n",
    "import numpy as np\n",
    "import string\n",
    "from collections import defaultdict\n",
    "from sklearn import linear_model"
   ]
  },
  {
   "cell_type": "code",
   "execution_count": 3,
   "metadata": {},
   "outputs": [
    {
     "name": "stderr",
     "output_type": "stream",
     "text": [
      "1586615it [02:54, 9076.99it/s] \n"
     ]
    }
   ],
   "source": [
    "fpath = \"../data/beeradvocate.json.gz\"\n",
    "\n",
    "def readGz(path):\n",
    "    for l in gzip.open(path, 'rt', encoding=\"utf-8\"):\n",
    "        yield eval(l)\n",
    "\n",
    "data = []\n",
    "for l in tqdm(readGz(fpath)):\n",
    "    data.append(l)"
   ]
  },
  {
   "cell_type": "code",
   "execution_count": 4,
   "metadata": {},
   "outputs": [],
   "source": [
    "n = len(data)\n",
    "\n",
    "dataTrain = data[:int(n*0.8)]\n",
    "dataVal = data[int(n*0.8):int(n*0.9)] \n",
    "dataTest = data[int(n*0.9):] "
   ]
  },
  {
   "cell_type": "code",
   "execution_count": 5,
   "metadata": {},
   "outputs": [
    {
     "ename": "KeyError",
     "evalue": "'beer/style'",
     "output_type": "error",
     "traceback": [
      "\u001b[1;31m---------------------------------------------------------------------------\u001b[0m",
      "\u001b[1;31mKeyError\u001b[0m                                  Traceback (most recent call last)",
      "\u001b[1;32mc:\\Users\\kyeling\\Desktop\\CSE258_RecommenderSystems\\code\\model-tfidf.ipynb Cell 4\u001b[0m line \u001b[0;36m3\n\u001b[0;32m      <a href='vscode-notebook-cell:/c%3A/Users/kyeling/Desktop/CSE258_RecommenderSystems/code/model-tfidf.ipynb#X34sZmlsZQ%3D%3D?line=0'>1</a>\u001b[0m ytrain \u001b[39m=\u001b[39m [d[\u001b[39m'\u001b[39m\u001b[39mbeer/style\u001b[39m\u001b[39m'\u001b[39m] \u001b[39mfor\u001b[39;00m d \u001b[39min\u001b[39;00m dataTrain]\n\u001b[0;32m      <a href='vscode-notebook-cell:/c%3A/Users/kyeling/Desktop/CSE258_RecommenderSystems/code/model-tfidf.ipynb#X34sZmlsZQ%3D%3D?line=1'>2</a>\u001b[0m yval   \u001b[39m=\u001b[39m [d[\u001b[39m'\u001b[39m\u001b[39mbeer/style\u001b[39m\u001b[39m'\u001b[39m] \u001b[39mfor\u001b[39;00m d \u001b[39min\u001b[39;00m dataVal]\n\u001b[1;32m----> <a href='vscode-notebook-cell:/c%3A/Users/kyeling/Desktop/CSE258_RecommenderSystems/code/model-tfidf.ipynb#X34sZmlsZQ%3D%3D?line=2'>3</a>\u001b[0m ytest  \u001b[39m=\u001b[39m [d[\u001b[39m'\u001b[39m\u001b[39mbeer/style\u001b[39m\u001b[39m'\u001b[39m] \u001b[39mfor\u001b[39;00m d \u001b[39min\u001b[39;00m dataTest]\n",
      "\u001b[1;32mc:\\Users\\kyeling\\Desktop\\CSE258_RecommenderSystems\\code\\model-tfidf.ipynb Cell 4\u001b[0m line \u001b[0;36m3\n\u001b[0;32m      <a href='vscode-notebook-cell:/c%3A/Users/kyeling/Desktop/CSE258_RecommenderSystems/code/model-tfidf.ipynb#X34sZmlsZQ%3D%3D?line=0'>1</a>\u001b[0m ytrain \u001b[39m=\u001b[39m [d[\u001b[39m'\u001b[39m\u001b[39mbeer/style\u001b[39m\u001b[39m'\u001b[39m] \u001b[39mfor\u001b[39;00m d \u001b[39min\u001b[39;00m dataTrain]\n\u001b[0;32m      <a href='vscode-notebook-cell:/c%3A/Users/kyeling/Desktop/CSE258_RecommenderSystems/code/model-tfidf.ipynb#X34sZmlsZQ%3D%3D?line=1'>2</a>\u001b[0m yval   \u001b[39m=\u001b[39m [d[\u001b[39m'\u001b[39m\u001b[39mbeer/style\u001b[39m\u001b[39m'\u001b[39m] \u001b[39mfor\u001b[39;00m d \u001b[39min\u001b[39;00m dataVal]\n\u001b[1;32m----> <a href='vscode-notebook-cell:/c%3A/Users/kyeling/Desktop/CSE258_RecommenderSystems/code/model-tfidf.ipynb#X34sZmlsZQ%3D%3D?line=2'>3</a>\u001b[0m ytest  \u001b[39m=\u001b[39m [d[\u001b[39m'\u001b[39;49m\u001b[39mbeer/style\u001b[39;49m\u001b[39m'\u001b[39;49m] \u001b[39mfor\u001b[39;00m d \u001b[39min\u001b[39;00m dataTest]\n",
      "\u001b[1;31mKeyError\u001b[0m: 'beer/style'"
     ]
    }
   ],
   "source": [
    "ytrain = [d['beer/style'] for d in dataTrain]\n",
    "yval   = [d['beer/style'] for d in dataVal]\n",
    "ytest  = [d['beer/style'] for d in dataTest]"
   ]
  },
  {
   "cell_type": "code",
   "execution_count": null,
   "metadata": {},
   "outputs": [],
   "source": [
    "sp = set(string.punctuation)"
   ]
  },
  {
   "cell_type": "code",
   "execution_count": null,
   "metadata": {},
   "outputs": [],
   "source": [
    "# create dictionary of size V unigrams\n",
    "# word counts should be based on training data\n",
    "def create_dict(V):    \n",
    "    wordCount = defaultdict(int)\n",
    "    for d in tqdm(dataTrain):\n",
    "        r = ''.join([c for c in d['review/text'].lower() if not c in sp])\n",
    "        for w in r.split():\n",
    "            wordCount[w] += 1\n",
    "\n",
    "    counts = [(wordCount[w], w) for w in wordCount]\n",
    "    counts.sort(reverse=True)\n",
    "\n",
    "    words = [x[1] for x in counts[:V]]\n",
    "    return words"
   ]
  },
  {
   "cell_type": "code",
   "execution_count": null,
   "metadata": {},
   "outputs": [
    {
     "name": "stderr",
     "output_type": "stream",
     "text": [
      " 26%|██▌       | 324382/1269292 [04:58<19:56, 790.04it/s]  "
     ]
    }
   ],
   "source": [
    "def get_bow_vecs(data, words):\n",
    "  X = []\n",
    "  for d in tqdm(data):\n",
    "    wordCount = defaultdict(int)\n",
    "    r = ''.join([c for c in d['review/text'].lower() if not c in sp])\n",
    "    for w in r.split():\n",
    "        wordCount[w] += 1\n",
    "    X.append([wordCount[w] for w in words])\n",
    "  return X\n",
    "\n"
   ]
  },
  {
   "cell_type": "code",
   "execution_count": null,
   "metadata": {},
   "outputs": [],
   "source": [
    "def run_model(X_train, y_train, X_val, y_val, C=1):\n",
    "    mod = linear_model.LogisticRegression(C)\n",
    "    mod.fit(X_train, y_train)\n",
    "    \n",
    "    y_preds = mod.predict(X_val)\n",
    "    correct = [int(yp == y) for yp, y in zip(y_preds, y_val)]\n",
    "    acc = sum(correct) / len(correct)\n",
    "\n",
    "    print(f\"accuracy: {acc}\")\n",
    "    return acc"
   ]
  },
  {
   "cell_type": "code",
   "execution_count": null,
   "metadata": {},
   "outputs": [],
   "source": [
    "words = create_dict(V=1000)\n",
    "Xtrain = get_bow_vecs(dataTrain, words)\n",
    "Xval = get_bow_vecs(dataVal, words)\n",
    "acc = run_model(Xtrain, ytrain, Xval, yval)"
   ]
  },
  {
   "cell_type": "code",
   "execution_count": null,
   "metadata": {},
   "outputs": [],
   "source": [
    "### TF-IDF ###"
   ]
  },
  {
   "cell_type": "code",
   "execution_count": null,
   "metadata": {},
   "outputs": [],
   "source": [
    "# tf is based on respective data (train, val, or test)\n",
    "def get_tf(d):\n",
    "  tf = defaultdict(int)\n",
    "  r = ''.join([c for c in d['review/text'].lower() if not c in sp])\n",
    "  for w in r.split():\n",
    "    tf[w] += 1\n",
    "  return tf\n",
    "\n",
    "# idf should be based on train data\n",
    "def get_df():\n",
    "    df = defaultdict(int)\n",
    "    for d in tqdm(dataTrain):\n",
    "        r = ''.join([c for c in d['review/text'].lower() if not c in sp])\n",
    "        for w in set(r.split()):\n",
    "            df[w] += 1\n",
    "\n",
    "def get_tfidf_vecs(data, words, df):\n",
    "  X = []\n",
    "  for d in data:\n",
    "    tf = get_tf(d)\n",
    "    X.append([tf[w] * np.log10(len(data) / df[w]) for w in words])\n",
    "  return X"
   ]
  },
  {
   "cell_type": "code",
   "execution_count": null,
   "metadata": {},
   "outputs": [],
   "source": []
  },
  {
   "cell_type": "code",
   "execution_count": null,
   "metadata": {},
   "outputs": [],
   "source": []
  }
 ],
 "metadata": {
  "kernelspec": {
   "display_name": ".venv",
   "language": "python",
   "name": "python3"
  },
  "language_info": {
   "codemirror_mode": {
    "name": "ipython",
    "version": 3
   },
   "file_extension": ".py",
   "mimetype": "text/x-python",
   "name": "python",
   "nbconvert_exporter": "python",
   "pygments_lexer": "ipython3",
   "version": "3.10.10"
  }
 },
 "nbformat": 4,
 "nbformat_minor": 2
}
