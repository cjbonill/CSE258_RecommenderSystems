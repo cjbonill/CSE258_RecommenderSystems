{
 "cells": [
  {
   "cell_type": "code",
   "execution_count": 1,
   "metadata": {},
   "outputs": [],
   "source": [
    "import gzip\n",
    "from tqdm import tqdm\n",
    "\n",
    "import numpy as np\n",
    "import pandas as pd\n",
    "\n",
    "from sklearn.linear_model import LogisticRegression\n",
    "from sklearn.feature_extraction.text import CountVectorizer, TfidfVectorizer, TfidfTransformer\n",
    "from sklearn.pipeline import Pipeline\n",
    "from sklearn.model_selection import GridSearchCV\n",
    "\n",
    "import string\n",
    "import gensim\n",
    "from nltk.corpus import stopwords\n",
    "\n",
    "# nltk.download('stopwords')"
   ]
  },
  {
   "cell_type": "code",
   "execution_count": 2,
   "metadata": {},
   "outputs": [
    {
     "name": "stderr",
     "output_type": "stream",
     "text": [
      "49999it [00:09, 5076.50it/s]\n"
     ]
    }
   ],
   "source": [
    "fpath = \"../data/beeradvocate.json.gz\"\n",
    "\n",
    "def readGz(path):\n",
    "    for l in gzip.open(path, 'rt', encoding=\"utf-8\"):\n",
    "        yield eval(l)\n",
    "\n",
    "data = []\n",
    "for l in tqdm(readGz(fpath)):\n",
    "    data.append(l)\n",
    "    # if len(data) >= 50000:\n",
    "    #     break\n",
    "data = data[:-1] # drop last datapoint (empty review)"
   ]
  },
  {
   "cell_type": "code",
   "execution_count": 3,
   "metadata": {},
   "outputs": [],
   "source": [
    "sp = set(list(zip(*string.punctuation)) + stopwords.words('english'))\n",
    "\n",
    "def preprocess(d):\n",
    "    tokens = gensim.utils.simple_preprocess(d)\n",
    "    return [t for t in tokens if t not in sp]"
   ]
  },
  {
   "cell_type": "code",
   "execution_count": 4,
   "metadata": {},
   "outputs": [],
   "source": [
    "np.random.seed(0)\n",
    "np.random.shuffle(data)\n",
    "\n",
    "data = data[:100000]\n",
    "n = len(data)\n",
    "\n",
    "dataTrain = data[:int(n*0.9)]\n",
    "# dataVal = data[int(n*0.8):int(n*0.9)] \n",
    "dataTest = data[int(n*0.9):] \n",
    "\n",
    "Xtrain = [d['review/text'] for d in dataTrain]\n",
    "ytrain = [d['beer/style'] for d in dataTrain]\n",
    "\n",
    "Xtest = [d['review/text'] for d in dataTest]\n",
    "ytest = [d['beer/style'] for d in dataTest]"
   ]
  },
  {
   "cell_type": "code",
   "execution_count": 5,
   "metadata": {},
   "outputs": [],
   "source": [
    "## BOW\n",
    "bow_model = Pipeline([\n",
    "    ('vect', CountVectorizer()),\n",
    "    ('clf', LogisticRegression()),\n",
    "])\n",
    "\n",
    "bow_params = {\n",
    "    'clf__C': [1,5,10]\n",
    "}"
   ]
  },
  {
   "cell_type": "code",
   "execution_count": 6,
   "metadata": {},
   "outputs": [
    {
     "name": "stderr",
     "output_type": "stream",
     "text": [
      "c:\\Users\\kyeling\\Desktop\\CSE258_RecommenderSystems\\.venv\\lib\\site-packages\\sklearn\\model_selection\\_split.py:737: UserWarning: The least populated class in y has only 1 members, which is less than n_splits=5.\n",
      "  warnings.warn(\n",
      "c:\\Users\\kyeling\\Desktop\\CSE258_RecommenderSystems\\.venv\\lib\\site-packages\\sklearn\\linear_model\\_logistic.py:460: ConvergenceWarning: lbfgs failed to converge (status=1):\n",
      "STOP: TOTAL NO. of ITERATIONS REACHED LIMIT.\n",
      "\n",
      "Increase the number of iterations (max_iter) or scale the data as shown in:\n",
      "    https://scikit-learn.org/stable/modules/preprocessing.html\n",
      "Please also refer to the documentation for alternative solver options:\n",
      "    https://scikit-learn.org/stable/modules/linear_model.html#logistic-regression\n",
      "  n_iter_i = _check_optimize_result(\n"
     ]
    },
    {
     "name": "stdout",
     "output_type": "stream",
     "text": [
      "0.3338\n"
     ]
    }
   ],
   "source": [
    "best_bow_model = GridSearchCV(bow_model, bow_params, cv=2)\n",
    "best_bow_model = best_bow_model.fit(Xtrain[:1000], ytrain[:1000])\n",
    "bow_preds = best_bow_model.predict(Xtest)\n",
    "print(np.mean(bow_preds == ytest)) # accuracy"
   ]
  },
  {
   "cell_type": "code",
   "execution_count": 9,
   "metadata": {},
   "outputs": [
    {
     "name": "stdout",
     "output_type": "stream",
     "text": [
      "{'mean_fit_time': array([44.42471995, 44.73912601, 46.3986423 ]), 'std_fit_time': array([0.58002514, 1.57738324, 1.33572793]), 'mean_score_time': array([0.08928881, 0.08867545, 0.06897802]), 'std_score_time': array([0.01515614, 0.022926  , 0.01227012]), 'param_clf__C': masked_array(data=[1, 5, 10],\n",
      "             mask=[False, False, False],\n",
      "       fill_value='?',\n",
      "            dtype=object), 'params': [{'clf__C': 1}, {'clf__C': 5}, {'clf__C': 10}], 'split0_test_score': array([0.38, 0.39, 0.39]), 'split1_test_score': array([0.29, 0.29, 0.29]), 'split2_test_score': array([0.34, 0.34, 0.34]), 'split3_test_score': array([0.41, 0.43, 0.44]), 'split4_test_score': array([0.34, 0.35, 0.35]), 'mean_test_score': array([0.352, 0.36 , 0.362]), 'std_test_score': array([0.04069398, 0.04732864, 0.05035871]), 'rank_test_score': array([3, 2, 1])}\n",
      "{'clf__C': 10}\n",
      "0.362\n"
     ]
    }
   ],
   "source": [
    "print(best_bow_model.cv_results_)\n",
    "print(best_bow_model.best_params_)\n",
    "print(best_bow_model.best_score_)"
   ]
  },
  {
   "cell_type": "code",
   "execution_count": 12,
   "metadata": {},
   "outputs": [
    {
     "name": "stderr",
     "output_type": "stream",
     "text": [
      "c:\\Users\\kyeling\\Desktop\\CSE258_RecommenderSystems\\.venv\\lib\\site-packages\\sklearn\\linear_model\\_logistic.py:460: ConvergenceWarning: lbfgs failed to converge (status=1):\n",
      "STOP: TOTAL NO. of ITERATIONS REACHED LIMIT.\n",
      "\n",
      "Increase the number of iterations (max_iter) or scale the data as shown in:\n",
      "    https://scikit-learn.org/stable/modules/preprocessing.html\n",
      "Please also refer to the documentation for alternative solver options:\n",
      "    https://scikit-learn.org/stable/modules/linear_model.html#logistic-regression\n",
      "  n_iter_i = _check_optimize_result(\n"
     ]
    },
    {
     "name": "stdout",
     "output_type": "stream",
     "text": [
      "0.6346\n"
     ]
    }
   ],
   "source": [
    "## train best BOW model on full training set\n",
    "bow_model.fit(Xtrain, ytrain, fit_params=best_bow_model.best_params_)\n",
    "preds = bow_model.predict(Xtest)\n",
    "print(np.mean(preds == ytest)) # accuracy"
   ]
  },
  {
   "cell_type": "code",
   "execution_count": null,
   "metadata": {},
   "outputs": [],
   "source": [
    "## TF-IDF\n",
    "tfidf_model = Pipeline([\n",
    "    ('vect', CountVectorizer()),\n",
    "    ('tfidf', TfidfTransformer()),\n",
    "    ('clf', LogisticRegression()),\n",
    "])\n",
    "\n",
    "tfidf_params = {\n",
    "    'vect__ngram_range': [(1, 1), (1, 2), (2, 3)],\n",
    "    'vect__preprocessor': [preprocess, None],\n",
    "    'clf__C': np.arange(1,10,2)\n",
    "}"
   ]
  },
  {
   "cell_type": "code",
   "execution_count": 10,
   "metadata": {},
   "outputs": [
    {
     "name": "stderr",
     "output_type": "stream",
     "text": [
      "c:\\Users\\kyeling\\Desktop\\CSE258_RecommenderSystems\\.venv\\lib\\site-packages\\sklearn\\model_selection\\_split.py:737: UserWarning: The least populated class in y has only 1 members, which is less than n_splits=2.\n",
      "  warnings.warn(\n",
      "c:\\Users\\kyeling\\Desktop\\CSE258_RecommenderSystems\\.venv\\lib\\site-packages\\sklearn\\model_selection\\_validation.py:425: FitFailedWarning: \n",
      "30 fits failed out of a total of 60.\n",
      "The score on these train-test partitions for these parameters will be set to nan.\n",
      "If these failures are not expected, you can try to debug them by setting error_score='raise'.\n",
      "\n",
      "Below are more details about the failures:\n",
      "--------------------------------------------------------------------------------\n",
      "30 fits failed with the following error:\n",
      "Traceback (most recent call last):\n",
      "  File \"c:\\Users\\kyeling\\Desktop\\CSE258_RecommenderSystems\\.venv\\lib\\site-packages\\sklearn\\model_selection\\_validation.py\", line 729, in _fit_and_score\n",
      "    estimator.fit(X_train, y_train, **fit_params)\n",
      "  File \"c:\\Users\\kyeling\\Desktop\\CSE258_RecommenderSystems\\.venv\\lib\\site-packages\\sklearn\\base.py\", line 1152, in wrapper\n",
      "    return fit_method(estimator, *args, **kwargs)\n",
      "  File \"c:\\Users\\kyeling\\Desktop\\CSE258_RecommenderSystems\\.venv\\lib\\site-packages\\sklearn\\pipeline.py\", line 423, in fit\n",
      "    Xt = self._fit(X, y, **fit_params_steps)\n",
      "  File \"c:\\Users\\kyeling\\Desktop\\CSE258_RecommenderSystems\\.venv\\lib\\site-packages\\sklearn\\pipeline.py\", line 377, in _fit\n",
      "    X, fitted_transformer = fit_transform_one_cached(\n",
      "  File \"c:\\Users\\kyeling\\Desktop\\CSE258_RecommenderSystems\\.venv\\lib\\site-packages\\joblib\\memory.py\", line 353, in __call__\n",
      "    return self.func(*args, **kwargs)\n",
      "  File \"c:\\Users\\kyeling\\Desktop\\CSE258_RecommenderSystems\\.venv\\lib\\site-packages\\sklearn\\pipeline.py\", line 957, in _fit_transform_one\n",
      "    res = transformer.fit_transform(X, y, **fit_params)\n",
      "  File \"c:\\Users\\kyeling\\Desktop\\CSE258_RecommenderSystems\\.venv\\lib\\site-packages\\sklearn\\base.py\", line 1152, in wrapper\n",
      "    return fit_method(estimator, *args, **kwargs)\n",
      "  File \"c:\\Users\\kyeling\\Desktop\\CSE258_RecommenderSystems\\.venv\\lib\\site-packages\\sklearn\\feature_extraction\\text.py\", line 1389, in fit_transform\n",
      "    vocabulary, X = self._count_vocab(raw_documents, self.fixed_vocabulary_)\n",
      "  File \"c:\\Users\\kyeling\\Desktop\\CSE258_RecommenderSystems\\.venv\\lib\\site-packages\\sklearn\\feature_extraction\\text.py\", line 1276, in _count_vocab\n",
      "    for feature in analyze(doc):\n",
      "  File \"c:\\Users\\kyeling\\Desktop\\CSE258_RecommenderSystems\\.venv\\lib\\site-packages\\sklearn\\feature_extraction\\text.py\", line 112, in _analyze\n",
      "    doc = tokenizer(doc)\n",
      "TypeError: expected string or bytes-like object\n",
      "\n",
      "  warnings.warn(some_fits_failed_message, FitFailedWarning)\n",
      "c:\\Users\\kyeling\\Desktop\\CSE258_RecommenderSystems\\.venv\\lib\\site-packages\\sklearn\\model_selection\\_search.py:979: UserWarning: One or more of the test scores are non-finite: [  nan 0.218   nan 0.148   nan 0.118   nan 0.306   nan 0.22    nan 0.122\n",
      "   nan 0.336   nan 0.246   nan 0.124   nan 0.364   nan 0.254   nan 0.138\n",
      "   nan 0.38    nan 0.264   nan 0.14 ]\n",
      "  warnings.warn(\n"
     ]
    },
    {
     "name": "stdout",
     "output_type": "stream",
     "text": [
      "0.3832\n"
     ]
    }
   ],
   "source": [
    "best_tfidf_model = GridSearchCV(tfidf_model, tfidf_params, cv=2)\n",
    "best_tfidf_model = best_tfidf_model.fit(Xtrain[:1000], ytrain[:1000])\n",
    "tfidf_preds = best_tfidf_model.predict(Xtest)\n",
    "print(np.mean(tfidf_preds == ytest)) # accuracy"
   ]
  },
  {
   "cell_type": "code",
   "execution_count": 11,
   "metadata": {},
   "outputs": [
    {
     "name": "stdout",
     "output_type": "stream",
     "text": [
      "{'mean_fit_time': array([6.00290298e-03, 3.55507183e+00, 3.04102898e-04, 1.85762960e+01,\n",
      "       0.00000000e+00, 3.16685889e+01, 0.00000000e+00, 3.49305964e+00,\n",
      "       1.04415417e-03, 1.88123931e+01, 5.07473946e-04, 3.68510844e+01,\n",
      "       0.00000000e+00, 2.78349161e+00, 0.00000000e+00, 1.74336296e+01,\n",
      "       1.99759007e-03, 3.22966712e+01, 0.00000000e+00, 3.19625390e+00,\n",
      "       0.00000000e+00, 1.86520813e+01, 9.99450684e-04, 4.51483248e+01,\n",
      "       5.19990921e-04, 4.13289285e+00, 0.00000000e+00, 1.99646604e+01,\n",
      "       5.26666641e-03, 3.90184669e+01]), 'std_fit_time': array([3.00335884e-03, 2.93977737e-01, 3.04102898e-04, 1.09966338e+00,\n",
      "       0.00000000e+00, 4.27707601e+00, 0.00000000e+00, 1.45372391e-01,\n",
      "       1.04415417e-03, 1.65083325e+00, 5.07473946e-04, 9.50883627e-02,\n",
      "       0.00000000e+00, 2.83516645e-01, 0.00000000e+00, 5.15881419e-01,\n",
      "       5.84125519e-06, 3.15440178e-01, 0.00000000e+00, 6.32005930e-02,\n",
      "       0.00000000e+00, 4.86008167e-01, 9.53674316e-07, 2.47928202e+00,\n",
      "       5.19990921e-04, 3.32329273e-02, 0.00000000e+00, 1.93153787e+00,\n",
      "       3.26585770e-03, 7.66795206e+00]), 'mean_score_time': array([0.        , 0.08674467, 0.        , 0.16102898, 0.        ,\n",
      "       0.23429322, 0.        , 0.07340109, 0.        , 0.11845827,\n",
      "       0.        , 0.16689909, 0.        , 0.04154921, 0.        ,\n",
      "       0.1165905 , 0.        , 0.12397587, 0.        , 0.0389663 ,\n",
      "       0.        , 0.11580288, 0.        , 0.17823911, 0.        ,\n",
      "       0.05413854, 0.        , 0.17640412, 0.        , 0.11728001]), 'std_score_time': array([0.00000000e+00, 1.13521814e-02, 0.00000000e+00, 2.41612196e-02,\n",
      "       0.00000000e+00, 2.04033852e-02, 0.00000000e+00, 2.19982862e-02,\n",
      "       0.00000000e+00, 3.37362289e-04, 0.00000000e+00, 2.26557255e-03,\n",
      "       0.00000000e+00, 7.70640373e-03, 0.00000000e+00, 1.51405334e-02,\n",
      "       0.00000000e+00, 9.19473171e-03, 0.00000000e+00, 1.01959705e-03,\n",
      "       0.00000000e+00, 1.42022371e-02, 0.00000000e+00, 2.77678967e-02,\n",
      "       0.00000000e+00, 8.91745090e-03, 0.00000000e+00, 4.20073271e-02,\n",
      "       0.00000000e+00, 3.93390656e-05]), 'param_clf__C': masked_array(data=[1, 1, 1, 1, 1, 1, 3, 3, 3, 3, 3, 3, 5, 5, 5, 5, 5, 5,\n",
      "                   7, 7, 7, 7, 7, 7, 9, 9, 9, 9, 9, 9],\n",
      "             mask=[False, False, False, False, False, False, False, False,\n",
      "                   False, False, False, False, False, False, False, False,\n",
      "                   False, False, False, False, False, False, False, False,\n",
      "                   False, False, False, False, False, False],\n",
      "       fill_value='?',\n",
      "            dtype=object), 'param_vect__ngram_range': masked_array(data=[(1, 1), (1, 1), (1, 2), (1, 2), (2, 3), (2, 3), (1, 1),\n",
      "                   (1, 1), (1, 2), (1, 2), (2, 3), (2, 3), (1, 1), (1, 1),\n",
      "                   (1, 2), (1, 2), (2, 3), (2, 3), (1, 1), (1, 1), (1, 2),\n",
      "                   (1, 2), (2, 3), (2, 3), (1, 1), (1, 1), (1, 2), (1, 2),\n",
      "                   (2, 3), (2, 3)],\n",
      "             mask=[False, False, False, False, False, False, False, False,\n",
      "                   False, False, False, False, False, False, False, False,\n",
      "                   False, False, False, False, False, False, False, False,\n",
      "                   False, False, False, False, False, False],\n",
      "       fill_value='?',\n",
      "            dtype=object), 'param_vect__preprocessor': masked_array(data=[<function preprocess at 0x000002126347BD90>, None,\n",
      "                   <function preprocess at 0x000002126347BD90>, None,\n",
      "                   <function preprocess at 0x000002126347BD90>, None,\n",
      "                   <function preprocess at 0x000002126347BD90>, None,\n",
      "                   <function preprocess at 0x000002126347BD90>, None,\n",
      "                   <function preprocess at 0x000002126347BD90>, None,\n",
      "                   <function preprocess at 0x000002126347BD90>, None,\n",
      "                   <function preprocess at 0x000002126347BD90>, None,\n",
      "                   <function preprocess at 0x000002126347BD90>, None,\n",
      "                   <function preprocess at 0x000002126347BD90>, None,\n",
      "                   <function preprocess at 0x000002126347BD90>, None,\n",
      "                   <function preprocess at 0x000002126347BD90>, None,\n",
      "                   <function preprocess at 0x000002126347BD90>, None,\n",
      "                   <function preprocess at 0x000002126347BD90>, None,\n",
      "                   <function preprocess at 0x000002126347BD90>, None],\n",
      "             mask=[False, False, False, False, False, False, False, False,\n",
      "                   False, False, False, False, False, False, False, False,\n",
      "                   False, False, False, False, False, False, False, False,\n",
      "                   False, False, False, False, False, False],\n",
      "       fill_value='?',\n",
      "            dtype=object), 'params': [{'clf__C': 1, 'vect__ngram_range': (1, 1), 'vect__preprocessor': <function preprocess at 0x000002126347BD90>}, {'clf__C': 1, 'vect__ngram_range': (1, 1), 'vect__preprocessor': None}, {'clf__C': 1, 'vect__ngram_range': (1, 2), 'vect__preprocessor': <function preprocess at 0x000002126347BD90>}, {'clf__C': 1, 'vect__ngram_range': (1, 2), 'vect__preprocessor': None}, {'clf__C': 1, 'vect__ngram_range': (2, 3), 'vect__preprocessor': <function preprocess at 0x000002126347BD90>}, {'clf__C': 1, 'vect__ngram_range': (2, 3), 'vect__preprocessor': None}, {'clf__C': 3, 'vect__ngram_range': (1, 1), 'vect__preprocessor': <function preprocess at 0x000002126347BD90>}, {'clf__C': 3, 'vect__ngram_range': (1, 1), 'vect__preprocessor': None}, {'clf__C': 3, 'vect__ngram_range': (1, 2), 'vect__preprocessor': <function preprocess at 0x000002126347BD90>}, {'clf__C': 3, 'vect__ngram_range': (1, 2), 'vect__preprocessor': None}, {'clf__C': 3, 'vect__ngram_range': (2, 3), 'vect__preprocessor': <function preprocess at 0x000002126347BD90>}, {'clf__C': 3, 'vect__ngram_range': (2, 3), 'vect__preprocessor': None}, {'clf__C': 5, 'vect__ngram_range': (1, 1), 'vect__preprocessor': <function preprocess at 0x000002126347BD90>}, {'clf__C': 5, 'vect__ngram_range': (1, 1), 'vect__preprocessor': None}, {'clf__C': 5, 'vect__ngram_range': (1, 2), 'vect__preprocessor': <function preprocess at 0x000002126347BD90>}, {'clf__C': 5, 'vect__ngram_range': (1, 2), 'vect__preprocessor': None}, {'clf__C': 5, 'vect__ngram_range': (2, 3), 'vect__preprocessor': <function preprocess at 0x000002126347BD90>}, {'clf__C': 5, 'vect__ngram_range': (2, 3), 'vect__preprocessor': None}, {'clf__C': 7, 'vect__ngram_range': (1, 1), 'vect__preprocessor': <function preprocess at 0x000002126347BD90>}, {'clf__C': 7, 'vect__ngram_range': (1, 1), 'vect__preprocessor': None}, {'clf__C': 7, 'vect__ngram_range': (1, 2), 'vect__preprocessor': <function preprocess at 0x000002126347BD90>}, {'clf__C': 7, 'vect__ngram_range': (1, 2), 'vect__preprocessor': None}, {'clf__C': 7, 'vect__ngram_range': (2, 3), 'vect__preprocessor': <function preprocess at 0x000002126347BD90>}, {'clf__C': 7, 'vect__ngram_range': (2, 3), 'vect__preprocessor': None}, {'clf__C': 9, 'vect__ngram_range': (1, 1), 'vect__preprocessor': <function preprocess at 0x000002126347BD90>}, {'clf__C': 9, 'vect__ngram_range': (1, 1), 'vect__preprocessor': None}, {'clf__C': 9, 'vect__ngram_range': (1, 2), 'vect__preprocessor': <function preprocess at 0x000002126347BD90>}, {'clf__C': 9, 'vect__ngram_range': (1, 2), 'vect__preprocessor': None}, {'clf__C': 9, 'vect__ngram_range': (2, 3), 'vect__preprocessor': <function preprocess at 0x000002126347BD90>}, {'clf__C': 9, 'vect__ngram_range': (2, 3), 'vect__preprocessor': None}], 'split0_test_score': array([  nan, 0.216,   nan, 0.152,   nan, 0.12 ,   nan, 0.308,   nan,\n",
      "       0.232,   nan, 0.128,   nan, 0.324,   nan, 0.26 ,   nan, 0.128,\n",
      "         nan, 0.356,   nan, 0.264,   nan, 0.144,   nan, 0.384,   nan,\n",
      "       0.28 ,   nan, 0.144]), 'split1_test_score': array([  nan, 0.22 ,   nan, 0.144,   nan, 0.116,   nan, 0.304,   nan,\n",
      "       0.208,   nan, 0.116,   nan, 0.348,   nan, 0.232,   nan, 0.12 ,\n",
      "         nan, 0.372,   nan, 0.244,   nan, 0.132,   nan, 0.376,   nan,\n",
      "       0.248,   nan, 0.136]), 'mean_test_score': array([  nan, 0.218,   nan, 0.148,   nan, 0.118,   nan, 0.306,   nan,\n",
      "       0.22 ,   nan, 0.122,   nan, 0.336,   nan, 0.246,   nan, 0.124,\n",
      "         nan, 0.364,   nan, 0.254,   nan, 0.138,   nan, 0.38 ,   nan,\n",
      "       0.264,   nan, 0.14 ]), 'std_test_score': array([  nan, 0.002,   nan, 0.004,   nan, 0.002,   nan, 0.002,   nan,\n",
      "       0.012,   nan, 0.006,   nan, 0.012,   nan, 0.014,   nan, 0.004,\n",
      "         nan, 0.008,   nan, 0.01 ,   nan, 0.006,   nan, 0.004,   nan,\n",
      "       0.016,   nan, 0.004]), 'rank_test_score': array([16,  9, 16, 10, 16, 15, 16,  4, 16,  8, 16, 14, 16,  3, 16,  7, 16,\n",
      "       13, 16,  2, 16,  6, 16, 12, 16,  1, 16,  5, 16, 11])}\n",
      "{'clf__C': 9, 'vect__ngram_range': (1, 1), 'vect__preprocessor': None}\n",
      "0.38\n"
     ]
    }
   ],
   "source": [
    "print(best_tfidf_model.cv_results_)\n",
    "print(best_tfidf_model.best_params_)\n",
    "print(best_tfidf_model.best_score_)"
   ]
  },
  {
   "cell_type": "code",
   "execution_count": 14,
   "metadata": {},
   "outputs": [],
   "source": [
    "## train best TF-IDF on full training set\n",
    "tfidf_model.fit(Xtrain, ytrain, fit_params=best_tfidf_model.best_params_)\n",
    "preds = bow_model.predict(Xtest)\n",
    "print(np.mean(preds == ytest)) # accuracy"
   ]
  }
 ],
 "metadata": {
  "kernelspec": {
   "display_name": ".venv",
   "language": "python",
   "name": "python3"
  },
  "language_info": {
   "codemirror_mode": {
    "name": "ipython",
    "version": 3
   },
   "file_extension": ".py",
   "mimetype": "text/x-python",
   "name": "python",
   "nbconvert_exporter": "python",
   "pygments_lexer": "ipython3",
   "version": "3.10.10"
  }
 },
 "nbformat": 4,
 "nbformat_minor": 2
}
